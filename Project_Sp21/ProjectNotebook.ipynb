{
 "cells": [
  {
   "cell_type": "markdown",
   "metadata": {},
   "source": [
    "# Project Description"
   ]
  },
  {
   "cell_type": "markdown",
   "metadata": {},
   "source": [
    "This project is supposed to mimick a once popular puzzle game called **2048**, which was one of my favorite games back in middle school.\n",
    "\n",
    "In this game, the player has a 4 x 4 tile board, where the board starts off almost completely empty with the exception of a couple tiles labeled with either a **2** or **4**. Per turn, the player makes their move by shifting all the tiles either up, down, left, or right. However, a previously blank tile is labeled with either a **2** or **4** each time this happens. If two neighboring tiles are shifted against each other, they both merge and the value of the newly-formed tile is the sum of the two merged tiles. The player continually shifts the tiles on the board until they create a tile that has a value of **2048**, in which case they win the game. However, if the tile board gets full and the player is no longer able to merge any of the tiles left, they lose.\n",
    "\n",
    "To play the game, you must have this notebook and all of its neighboring files downloaded locally onto your computer, apart from DataHub. This is so a separate video device is available for the game to be displayed on. Then, you should open up this notebook and run the middle coding cell (labeled with the comment \"Runs game\"), where a simulation of the game should pop up on a separate window."
   ]
  },
  {
   "cell_type": "markdown",
   "metadata": {},
   "source": [
    "## Project Code\n",
    "\n",
    "If it makes sense for your project, you can have code and outputs here in the notebook as well."
   ]
  },
  {
   "cell_type": "code",
   "execution_count": null,
   "metadata": {},
   "outputs": [],
   "source": [
    "# No modules to import here!"
   ]
  },
  {
   "cell_type": "code",
   "execution_count": 1,
   "metadata": {},
   "outputs": [
    {
     "name": "stdout",
     "output_type": "stream",
     "text": [
      "pygame 2.0.1 (SDL 2.0.14, Python 3.8.5)\n",
      "Hello from the pygame community. https://www.pygame.org/contribute.html\n"
     ]
    }
   ],
   "source": [
    "# Runs game\n",
    "!python script_and_module/main.py"
   ]
  },
  {
   "cell_type": "code",
   "execution_count": 2,
   "metadata": {},
   "outputs": [
    {
     "name": "stdout",
     "output_type": "stream",
     "text": [
      "============================= test session starts =============================\n",
      "platform win32 -- Python 3.8.5, pytest-6.1.1, py-1.9.0, pluggy-0.13.1\n",
      "rootdir: C:\\Users\\ryanp\\Downloads\\Project_Sp21\n",
      "collected 5 items\n",
      "\n",
      "script_and_module\\my_module\\test_functions.py .....                      [100%]\n",
      "\n",
      "============================== warnings summary ===============================\n",
      "..\\..\\anaconda3\\lib\\site-packages\\pyreadline\\py3k_compat.py:8\n",
      "  C:\\Users\\ryanp\\anaconda3\\lib\\site-packages\\pyreadline\\py3k_compat.py:8: DeprecationWarning: Using or importing the ABCs from 'collections' instead of from 'collections.abc' is deprecated since Python 3.3, and in 3.9 it will stop working\n",
      "    return isinstance(x, collections.Callable)\n",
      "\n",
      "-- Docs: https://docs.pytest.org/en/stable/warnings.html\n",
      "======================== 5 passed, 1 warning in 0.04s =========================\n"
     ]
    }
   ],
   "source": [
    "# Tests functions\n",
    "!pytest"
   ]
  },
  {
   "cell_type": "markdown",
   "metadata": {},
   "source": [
    "#### Extra Credit (*optional*)\n",
    "\n",
    "I had no previous Python experience before taking this class, though a lot of the syntax here was fairly similar to the other coding languages I've learned in the past. However, throughout the quarter, I've also noticed how flexible Python's syntax was compared to other languages, and I really wanted to test how much I could do with the little knowledge I had of it thus far (and a bit of research as well). So, I really challenged myself by testing my limitations and making a complete game with visuals and player input using all the different Python techniques I picked up throughout the course and on this very project."
   ]
  }
 ],
 "metadata": {
  "kernelspec": {
   "display_name": "Python 3",
   "language": "python",
   "name": "python3"
  },
  "language_info": {
   "codemirror_mode": {
    "name": "ipython",
    "version": 3
   },
   "file_extension": ".py",
   "mimetype": "text/x-python",
   "name": "python",
   "nbconvert_exporter": "python",
   "pygments_lexer": "ipython3",
   "version": "3.8.5"
  }
 },
 "nbformat": 4,
 "nbformat_minor": 2
}
